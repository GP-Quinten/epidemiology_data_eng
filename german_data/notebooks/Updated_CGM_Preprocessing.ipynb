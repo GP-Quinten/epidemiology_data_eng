{
 "cells": [
  {
   "cell_type": "code",
   "execution_count": 1,
   "id": "8d4a7344",
   "metadata": {},
   "outputs": [],
   "source": [
    "import pandas as pd \n",
    "import datetime\n",
    "from dateutil.relativedelta import relativedelta"
   ]
  },
  {
   "cell_type": "code",
   "execution_count": 2,
   "metadata": {},
   "outputs": [],
   "source": [
    "csv_table = pd.read_table('../data/01_raw/SARI-Hospitalisierungsinzidenz.tsv' ,sep='\\t')\n",
    "csv_table.to_csv('../data/01_raw/SARI-Hospitalisierungsinzidenz.csv',index=False)\n"
   ]
  },
  {
   "cell_type": "code",
   "execution_count": 2,
   "id": "054fd163",
   "metadata": {},
   "outputs": [],
   "source": [
    "diagnosis_data = pd.read_csv('./CGM_data_01-2023_52-2023_extract.csv',sep=',')\n",
    "prescription_data = pd.read_csv('./CGM_prescriptions_2023_01_2023_52.csv', sep=',')"
   ]
  },
  {
   "cell_type": "code",
   "execution_count": 5,
   "id": "95bb7898",
   "metadata": {},
   "outputs": [],
   "source": [
    "def normalize_region(df): \n",
    "    \"\"\"\n",
    "    patient data / gp data uses seperated region NRW (Nordrhein and Westfalen-Lippe)\n",
    "    This function merges them and stores all regions in region list\n",
    "    \"\"\"\n",
    "    region = []\n",
    "    \n",
    "    for item in df['kvregion']:\n",
    "        \n",
    "        if item == 'Westfalen-Lippe' or item == 'Nordrhein':\n",
    "            region.append('Nordrhein-Westfalen')\n",
    "        else:\n",
    "            region.append(item)\n",
    "            \n",
    "    return(region)"
   ]
  },
  {
   "cell_type": "code",
   "execution_count": 6,
   "id": "3e7a93d8",
   "metadata": {},
   "outputs": [],
   "source": [
    "def week_to_monday(week_str):\n",
    "    year, week = map(int, week_str.split('-'))\n",
    "    # Calculate the date of the first day (Monday) of the given calendar week\n",
    "    monday = datetime.datetime.strptime(f'{year}-W{week}-1', '%Y-W%W-%w').date()\n",
    "    return monday.strftime('%Y-%m-%d')"
   ]
  },
  {
   "cell_type": "code",
   "execution_count": 7,
   "id": "0f9bcc70",
   "metadata": {},
   "outputs": [],
   "source": [
    "regions = { \"Deutschland\": \"DE\",\n",
    "            \"Baden-Württemberg\": \"DE.BW\",\n",
    "            \"Bayern\": \"DE.BY\",\n",
    "            \"Berlin\": \"DE.BE\",\n",
    "            \"Brandenburg\": \"DE.BB\",\n",
    "            \"Bremen\": \"DE.HB\",\n",
    "            \"Hamburg\": \"DE.HH\",\n",
    "            \"Hessen\": \"DE.HE\",\n",
    "            \"Mecklenburg-Vorpommern\": \"DE.MV\",\n",
    "            \"Niedersachsen\": \"DE.NI\",\n",
    "            \"Nordrhein-Westfalen\": \"DE.NW\",\n",
    "            \"Rheinland-Pfalz\": \"DE.RP\",\n",
    "            \"Saarland\": \"DE.SL\",\n",
    "            \"Sachsen\": \"DE.SN\",\n",
    "            \"Sachsen-Anhalt\": \"DE.ST\",\n",
    "            \"Schleswig-Holstein\": \"DE.SH\",\n",
    "            \"Thüringen\": \"DE.TH\",\n",
    "            }"
   ]
  },
  {
   "cell_type": "code",
   "execution_count": 8,
   "id": "fa63191d",
   "metadata": {},
   "outputs": [],
   "source": [
    "def transforming_gp_data(data_frame, value_list):\n",
    "    \"\"\"\n",
    "    Brings the gp data to the correct format by pivoting, and adding the correct date and region\n",
    "    \"\"\"\n",
    "    data_frame_cp = data_frame\n",
    "    data_frame_cp['region'] = normalize_region(data_frame_cp)\n",
    "    pivot_df = data_frame_cp.pivot_table(index=['week', 'region'], columns=['category', 'age_group'], \n",
    "                                         values=value_list, aggfunc='sum')\n",
    "    pivot_df.reset_index(inplace=True)\n",
    "    pivot_df.columns = pivot_df.columns.map(' '.join)\n",
    "    pivot_df.insert(0,\"date\",pivot_df.iloc[:,0].apply(lambda x: week_to_monday(x)))\n",
    "    pivot_df.insert(1,\"geography\",pivot_df.iloc[:,2].apply(lambda x: regions[x]))\n",
    "    pivot_df.fillna(0,inplace=True)\n",
    "    pivot_df.columns = pivot_df.columns.str.strip()\n",
    "    pivot_df=pivot_df.drop(columns=[\"week\", \"region\"])\n",
    "    return(pivot_df)\n",
    "\n",
    "diagnosis_wide_df = transforming_gp_data(diagnosis_data,['distinct_patient_count','ratio','ratio_all'])\n",
    "prescriptions_wide_df = transforming_gp_data(prescription_data, ['distinct_patient_count'])"
   ]
  },
  {
   "cell_type": "code",
   "execution_count": 9,
   "id": "c2f863fa",
   "metadata": {},
   "outputs": [],
   "source": [
    "diagnosis_wide_df = transforming_gp_data(diagnosis_data,['distinct_patient_count','ratio','ratio_all'])\n",
    "prescriptions_wide_df = transforming_gp_data(prescription_data, ['distinct_patient_count'])"
   ]
  },
  {
   "cell_type": "code",
   "execution_count": 10,
   "id": "36e40d50",
   "metadata": {},
   "outputs": [],
   "source": [
    "diagnosis_wide_df.to_csv(\"diagnoses.csv\", index=False)\n",
    "prescriptions_wide_df.to_csv(\"prescriptions.csv\", index=False)"
   ]
  }
 ],
 "metadata": {
  "kernelspec": {
   "display_name": "Python 3 (ipykernel)",
   "language": "python",
   "name": "python3"
  },
  "language_info": {
   "codemirror_mode": {
    "name": "ipython",
    "version": 3
   },
   "file_extension": ".py",
   "mimetype": "text/x-python",
   "name": "python",
   "nbconvert_exporter": "python",
   "pygments_lexer": "ipython3",
   "version": "3.10.12"
  },
  "vscode": {
   "interpreter": {
    "hash": "31f2aee4e71d21fbe5cf8b01ff0e069b9275f58929596ceb00d14d90e3e16cd6"
   }
  }
 },
 "nbformat": 4,
 "nbformat_minor": 5
}
