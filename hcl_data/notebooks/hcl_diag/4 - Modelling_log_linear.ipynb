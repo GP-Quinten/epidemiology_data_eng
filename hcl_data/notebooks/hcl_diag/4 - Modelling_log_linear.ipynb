{
 "cells": [
  {
   "cell_type": "code",
   "execution_count": 61,
   "metadata": {},
   "outputs": [],
   "source": [
    "import pandas as pd\n",
    "import matplotlib.pyplot as plt\n",
    "import numpy as np\n",
    "from datetime import datetime, timedelta\n"
   ]
  },
  {
   "cell_type": "code",
   "execution_count": 62,
   "metadata": {},
   "outputs": [
    {
     "data": {
      "text/html": [
       "<div>\n",
       "<style scoped>\n",
       "    .dataframe tbody tr th:only-of-type {\n",
       "        vertical-align: middle;\n",
       "    }\n",
       "\n",
       "    .dataframe tbody tr th {\n",
       "        vertical-align: top;\n",
       "    }\n",
       "\n",
       "    .dataframe thead th {\n",
       "        text-align: right;\n",
       "    }\n",
       "</style>\n",
       "<table border=\"1\" class=\"dataframe\">\n",
       "  <thead>\n",
       "    <tr style=\"text-align: right;\">\n",
       "      <th></th>\n",
       "      <th>LIB_SEM</th>\n",
       "      <th>CATEG_DIAG</th>\n",
       "      <th>NB_PATIENTS</th>\n",
       "      <th>NB_IS_DEATH</th>\n",
       "      <th>NB_IS_CRITIC</th>\n",
       "    </tr>\n",
       "  </thead>\n",
       "  <tbody>\n",
       "    <tr>\n",
       "      <th>0</th>\n",
       "      <td>2023-01-02</td>\n",
       "      <td>COVID_19</td>\n",
       "      <td>80</td>\n",
       "      <td>5</td>\n",
       "      <td>20</td>\n",
       "    </tr>\n",
       "    <tr>\n",
       "      <th>1</th>\n",
       "      <td>2023-01-09</td>\n",
       "      <td>COVID_19</td>\n",
       "      <td>68</td>\n",
       "      <td>3</td>\n",
       "      <td>12</td>\n",
       "    </tr>\n",
       "    <tr>\n",
       "      <th>2</th>\n",
       "      <td>2023-01-16</td>\n",
       "      <td>COVID_19</td>\n",
       "      <td>45</td>\n",
       "      <td>4</td>\n",
       "      <td>10</td>\n",
       "    </tr>\n",
       "    <tr>\n",
       "      <th>3</th>\n",
       "      <td>2023-01-23</td>\n",
       "      <td>COVID_19</td>\n",
       "      <td>54</td>\n",
       "      <td>4</td>\n",
       "      <td>6</td>\n",
       "    </tr>\n",
       "    <tr>\n",
       "      <th>4</th>\n",
       "      <td>2023-01-30</td>\n",
       "      <td>COVID_19</td>\n",
       "      <td>35</td>\n",
       "      <td>2</td>\n",
       "      <td>6</td>\n",
       "    </tr>\n",
       "    <tr>\n",
       "      <th>...</th>\n",
       "      <td>...</td>\n",
       "      <td>...</td>\n",
       "      <td>...</td>\n",
       "      <td>...</td>\n",
       "      <td>...</td>\n",
       "    </tr>\n",
       "    <tr>\n",
       "      <th>113</th>\n",
       "      <td>2023-03-27</td>\n",
       "      <td>RSV</td>\n",
       "      <td>1</td>\n",
       "      <td>0</td>\n",
       "      <td>1</td>\n",
       "    </tr>\n",
       "    <tr>\n",
       "      <th>114</th>\n",
       "      <td>2023-04-03</td>\n",
       "      <td>RSV</td>\n",
       "      <td>2</td>\n",
       "      <td>0</td>\n",
       "      <td>1</td>\n",
       "    </tr>\n",
       "    <tr>\n",
       "      <th>115</th>\n",
       "      <td>2023-04-10</td>\n",
       "      <td>RSV</td>\n",
       "      <td>1</td>\n",
       "      <td>0</td>\n",
       "      <td>0</td>\n",
       "    </tr>\n",
       "    <tr>\n",
       "      <th>116</th>\n",
       "      <td>2023-04-17</td>\n",
       "      <td>RSV</td>\n",
       "      <td>2</td>\n",
       "      <td>0</td>\n",
       "      <td>0</td>\n",
       "    </tr>\n",
       "    <tr>\n",
       "      <th>117</th>\n",
       "      <td>2023-04-24</td>\n",
       "      <td>RSV</td>\n",
       "      <td>1</td>\n",
       "      <td>0</td>\n",
       "      <td>0</td>\n",
       "    </tr>\n",
       "  </tbody>\n",
       "</table>\n",
       "<p>118 rows × 5 columns</p>\n",
       "</div>"
      ],
      "text/plain": [
       "        LIB_SEM CATEG_DIAG  NB_PATIENTS  NB_IS_DEATH  NB_IS_CRITIC\n",
       "0    2023-01-02   COVID_19           80            5            20\n",
       "1    2023-01-09   COVID_19           68            3            12\n",
       "2    2023-01-16   COVID_19           45            4            10\n",
       "3    2023-01-23   COVID_19           54            4             6\n",
       "4    2023-01-30   COVID_19           35            2             6\n",
       "..          ...        ...          ...          ...           ...\n",
       "113  2023-03-27        RSV            1            0             1\n",
       "114  2023-04-03        RSV            2            0             1\n",
       "115  2023-04-10        RSV            1            0             0\n",
       "116  2023-04-17        RSV            2            0             0\n",
       "117  2023-04-24        RSV            1            0             0\n",
       "\n",
       "[118 rows x 5 columns]"
      ]
     },
     "execution_count": 62,
     "metadata": {},
     "output_type": "execute_result"
    }
   ],
   "source": [
    "data = pd.read_csv('../data/05_model_input/filtered_df.csv')\n",
    "data"
   ]
  },
  {
   "cell_type": "code",
   "execution_count": 63,
   "metadata": {},
   "outputs": [],
   "source": [
    "import numpy as np\n",
    "import pandas as pd\n",
    "from sklearn.linear_model import LinearRegression"
   ]
  },
  {
   "cell_type": "code",
   "execution_count": 64,
   "metadata": {},
   "outputs": [],
   "source": [
    "# Créez une instance de modèle de régression linéaire\n",
    "model = LinearRegression()"
   ]
  },
  {
   "cell_type": "code",
   "execution_count": 65,
   "metadata": {},
   "outputs": [],
   "source": [
    "selected_disease = \"COVID_19\"\n",
    "selected_parameter = \"NB_PATIENTS\"\n",
    "\n"
   ]
  },
  {
   "cell_type": "code",
   "execution_count": 66,
   "metadata": {},
   "outputs": [],
   "source": [
    "import pandas as pd\n",
    "\n",
    "# Assurez-vous que les données sont triées par semaine\n",
    "selected_data = data[data['CATEG_DIAG'] == selected_disease][[\"LIB_SEM\"]]\n",
    "selected_data[\"LIB_SEM\"] = pd.to_datetime(selected_data[\"LIB_SEM\"])  # Conversion en datetime\n",
    "selected_data = selected_data.sort_values(by=\"LIB_SEM\")\n",
    "\n",
    "# Calculez la différence en semaines entre chaque date et la première date\n",
    "selected_data[\"WeekDiff\"] = (selected_data[\"LIB_SEM\"] - selected_data[\"LIB_SEM\"].min()).dt.days // 7"
   ]
  },
  {
   "cell_type": "code",
   "execution_count": 80,
   "metadata": {},
   "outputs": [
    {
     "data": {
      "text/plain": [
       "27"
      ]
     },
     "execution_count": 80,
     "metadata": {},
     "output_type": "execute_result"
    }
   ],
   "source": [
    "weeks = len(selected_data[\"WeekDiff\"] ) // 7\n",
    "weeks * 7 - 14"
   ]
  },
  {
   "cell_type": "code",
   "execution_count": null,
   "metadata": {},
   "outputs": [],
   "source": [
    "import numpy as np\n",
    "import pandas as pd\n",
    "from scipy.stats import linregress\n",
    "from statsmodels.stats.multitest import multipletests\n",
    "\n",
    "def prediction(rel_data, CL=0.95, pred_hor, cov_mat, simple=True):\n",
    "    weeks = len(rel_data) // 7\n",
    "    pred_mat = []\n",
    "    i = 0\n",
    "    \n",
    "    while i <= weeks * 7 - 14:\n",
    "        days = np.arange(len(rel_data))\n",
    "        curr_days = np.arange(i, i + 14)\n",
    "        curr_window = rel_data[curr_days]\n",
    "        pred_days = np.arange(i + 14, i + 14 + pred_hor)\n",
    "        \n",
    "        if simple:\n",
    "            new_dat = pd.DataFrame({'curr_days': pred_days})\n",
    "            linreg = linregress(curr_days, np.log(curr_window))\n",
    "            slope, intercept, r_value, p_value, std_err = linreg\n",
    "            pred = np.exp(intercept + slope * new_dat['curr_days'])\n",
    "            conf_int = np.array([np.nan, np.nan])\n",
    "            pred_mat.append([pred, *conf_int, np.nan])\n",
    "        \n",
    "        else:\n",
    "            cov_dfd = pd.DataFrame({'days': days, **cov_mat})\n",
    "            new_dat = cov_dfd.iloc[pred_days]\n",
    "            curr_dat = cov_dfd.iloc[curr_days]\n",
    "            linreg = linregress(curr_dat, np.log(curr_window))\n",
    "            slope, intercept, r_value, p_value, std_err = linreg\n",
    "            pred = np.exp(intercept + slope * new_dat)\n",
    "            linreg_0 = linregress(curr_dat['days'], np.log(curr_window))\n",
    "            p_val = var_test(linreg, linreg_0)\n",
    "            conf_int = np.array([np.nan, np.nan])\n",
    "            pred_mat.append([pred, *conf_int, p_val])\n",
    "        \n",
    "        i += pred_hor\n",
    "    \n",
    "    pred_mat = np.array(pred_mat)[1:]\n",
    "    pred_mat = pred_mat[:, ~np.all(np.isnan(pred_mat), axis=0)]\n",
    "    \n",
    "    if pred_mat.shape[1] == 4:\n",
    "        pred_mat[:, 3] = multipletests(pred_mat[:, 3], method='holm')[1]\n",
    "    \n",
    "    return pred_mat"
   ]
  },
  {
   "cell_type": "code",
   "execution_count": 67,
   "metadata": {},
   "outputs": [],
   "source": [
    "y = data[data['CATEG_DIAG'] == selected_disease][\"NB_PATIENTS\"]\n",
    "X = selected_data[\"WeekDiff\"].values.reshape(-1, 1)\n"
   ]
  },
  {
   "cell_type": "code",
   "execution_count": 68,
   "metadata": {},
   "outputs": [
    {
     "data": {
      "text/html": [
       "<style>#sk-container-id-3 {color: black;}#sk-container-id-3 pre{padding: 0;}#sk-container-id-3 div.sk-toggleable {background-color: white;}#sk-container-id-3 label.sk-toggleable__label {cursor: pointer;display: block;width: 100%;margin-bottom: 0;padding: 0.3em;box-sizing: border-box;text-align: center;}#sk-container-id-3 label.sk-toggleable__label-arrow:before {content: \"▸\";float: left;margin-right: 0.25em;color: #696969;}#sk-container-id-3 label.sk-toggleable__label-arrow:hover:before {color: black;}#sk-container-id-3 div.sk-estimator:hover label.sk-toggleable__label-arrow:before {color: black;}#sk-container-id-3 div.sk-toggleable__content {max-height: 0;max-width: 0;overflow: hidden;text-align: left;background-color: #f0f8ff;}#sk-container-id-3 div.sk-toggleable__content pre {margin: 0.2em;color: black;border-radius: 0.25em;background-color: #f0f8ff;}#sk-container-id-3 input.sk-toggleable__control:checked~div.sk-toggleable__content {max-height: 200px;max-width: 100%;overflow: auto;}#sk-container-id-3 input.sk-toggleable__control:checked~label.sk-toggleable__label-arrow:before {content: \"▾\";}#sk-container-id-3 div.sk-estimator input.sk-toggleable__control:checked~label.sk-toggleable__label {background-color: #d4ebff;}#sk-container-id-3 div.sk-label input.sk-toggleable__control:checked~label.sk-toggleable__label {background-color: #d4ebff;}#sk-container-id-3 input.sk-hidden--visually {border: 0;clip: rect(1px 1px 1px 1px);clip: rect(1px, 1px, 1px, 1px);height: 1px;margin: -1px;overflow: hidden;padding: 0;position: absolute;width: 1px;}#sk-container-id-3 div.sk-estimator {font-family: monospace;background-color: #f0f8ff;border: 1px dotted black;border-radius: 0.25em;box-sizing: border-box;margin-bottom: 0.5em;}#sk-container-id-3 div.sk-estimator:hover {background-color: #d4ebff;}#sk-container-id-3 div.sk-parallel-item::after {content: \"\";width: 100%;border-bottom: 1px solid gray;flex-grow: 1;}#sk-container-id-3 div.sk-label:hover label.sk-toggleable__label {background-color: #d4ebff;}#sk-container-id-3 div.sk-serial::before {content: \"\";position: absolute;border-left: 1px solid gray;box-sizing: border-box;top: 0;bottom: 0;left: 50%;z-index: 0;}#sk-container-id-3 div.sk-serial {display: flex;flex-direction: column;align-items: center;background-color: white;padding-right: 0.2em;padding-left: 0.2em;position: relative;}#sk-container-id-3 div.sk-item {position: relative;z-index: 1;}#sk-container-id-3 div.sk-parallel {display: flex;align-items: stretch;justify-content: center;background-color: white;position: relative;}#sk-container-id-3 div.sk-item::before, #sk-container-id-3 div.sk-parallel-item::before {content: \"\";position: absolute;border-left: 1px solid gray;box-sizing: border-box;top: 0;bottom: 0;left: 50%;z-index: -1;}#sk-container-id-3 div.sk-parallel-item {display: flex;flex-direction: column;z-index: 1;position: relative;background-color: white;}#sk-container-id-3 div.sk-parallel-item:first-child::after {align-self: flex-end;width: 50%;}#sk-container-id-3 div.sk-parallel-item:last-child::after {align-self: flex-start;width: 50%;}#sk-container-id-3 div.sk-parallel-item:only-child::after {width: 0;}#sk-container-id-3 div.sk-dashed-wrapped {border: 1px dashed gray;margin: 0 0.4em 0.5em 0.4em;box-sizing: border-box;padding-bottom: 0.4em;background-color: white;}#sk-container-id-3 div.sk-label label {font-family: monospace;font-weight: bold;display: inline-block;line-height: 1.2em;}#sk-container-id-3 div.sk-label-container {text-align: center;}#sk-container-id-3 div.sk-container {/* jupyter's `normalize.less` sets `[hidden] { display: none; }` but bootstrap.min.css set `[hidden] { display: none !important; }` so we also need the `!important` here to be able to override the default hidden behavior on the sphinx rendered scikit-learn.org. See: https://github.com/scikit-learn/scikit-learn/issues/21755 */display: inline-block !important;position: relative;}#sk-container-id-3 div.sk-text-repr-fallback {display: none;}</style><div id=\"sk-container-id-3\" class=\"sk-top-container\"><div class=\"sk-text-repr-fallback\"><pre>LinearRegression()</pre><b>In a Jupyter environment, please rerun this cell to show the HTML representation or trust the notebook. <br />On GitHub, the HTML representation is unable to render, please try loading this page with nbviewer.org.</b></div><div class=\"sk-container\" hidden><div class=\"sk-item\"><div class=\"sk-estimator sk-toggleable\"><input class=\"sk-toggleable__control sk-hidden--visually\" id=\"sk-estimator-id-3\" type=\"checkbox\" checked><label for=\"sk-estimator-id-3\" class=\"sk-toggleable__label sk-toggleable__label-arrow\">LinearRegression</label><div class=\"sk-toggleable__content\"><pre>LinearRegression()</pre></div></div></div></div></div>"
      ],
      "text/plain": [
       "LinearRegression()"
      ]
     },
     "execution_count": 68,
     "metadata": {},
     "output_type": "execute_result"
    }
   ],
   "source": [
    "# Ajustez le modèle aux données\n",
    "model.fit(X, y)"
   ]
  },
  {
   "cell_type": "code",
   "execution_count": 69,
   "metadata": {},
   "outputs": [
    {
     "name": "stderr",
     "output_type": "stream",
     "text": [
      "c:\\ProgramData\\Anaconda3\\envs\\kedro-environment\\lib\\site-packages\\sklearn\\base.py:457: UserWarning: X has feature names, but LinearRegression was fitted without feature names\n",
      "  warnings.warn(\n"
     ]
    }
   ],
   "source": [
    "import numpy as np\n",
    "\n",
    "time_series = [datetime.strptime(date, \"%Y-%m-%d\") for date in data['LIB_SEM']]\n",
    "# Trouvez la dernière semaine dans les données\n",
    "derniere_semaine = max(time_series)\n",
    "# Créez une nouvelle DataFrame pour les deux semaines suivantes\n",
    "nouvelles_semaines = pd.DataFrame({'Week': [derniere_semaine + timedelta(weeks=1), derniere_semaine + timedelta(weeks=2)]})\n",
    "\n",
    "nouvelles_semaines[\"Week\"] = nouvelles_semaines[\"Week\"].values.astype(np.float64)\n",
    "\n",
    "# Prédictions pour les deux nouvelles semaines\n",
    "predictions = model.predict(nouvelles_semaines)"
   ]
  },
  {
   "cell_type": "code",
   "execution_count": 70,
   "metadata": {},
   "outputs": [],
   "source": [
    "# Coefficients de régression\n",
    "coefficients = model.coef_\n",
    "intercept = model.intercept_"
   ]
  },
  {
   "cell_type": "code",
   "execution_count": 71,
   "metadata": {},
   "outputs": [
    {
     "data": {
      "text/plain": [
       "array([-3.32753037e+18, -3.32872151e+18])"
      ]
     },
     "execution_count": 71,
     "metadata": {},
     "output_type": "execute_result"
    }
   ],
   "source": [
    "predictions"
   ]
  }
 ],
 "metadata": {
  "kernelspec": {
   "display_name": "kedro-environment",
   "language": "python",
   "name": "python3"
  },
  "language_info": {
   "codemirror_mode": {
    "name": "ipython",
    "version": 3
   },
   "file_extension": ".py",
   "mimetype": "text/x-python",
   "name": "python",
   "nbconvert_exporter": "python",
   "pygments_lexer": "ipython3",
   "version": "3.10.12"
  },
  "orig_nbformat": 4
 },
 "nbformat": 4,
 "nbformat_minor": 2
}
