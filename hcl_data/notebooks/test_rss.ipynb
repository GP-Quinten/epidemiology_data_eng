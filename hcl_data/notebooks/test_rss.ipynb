{
 "cells": [
  {
   "cell_type": "code",
   "execution_count": null,
   "metadata": {},
   "outputs": [],
   "source": [
    "import os\n",
    "import pandas as pd\n",
    "import re\n",
    "import numpy as np\n",
    "import matplotlib.pyplot as plt\n",
    "\n",
    "from kedro.pipeline import *\n",
    "from kedro.io import *\n",
    "from kedro.runner import *\n",
    "\n",
    "import pickle\n",
    "import os"
   ]
  },
  {
   "cell_type": "code",
   "execution_count": null,
   "metadata": {},
   "outputs": [],
   "source": []
  },
  {
   "cell_type": "code",
   "execution_count": 34,
   "metadata": {},
   "outputs": [
    {
     "data": {
      "text/html": [
       "<pre style=\"white-space:pre;overflow-x:auto;line-height:normal;font-family:Menlo,'DejaVu Sans Mono',consolas,'Courier New',monospace\"></pre>\n"
      ],
      "text/plain": []
     },
     "metadata": {},
     "output_type": "display_data"
    },
    {
     "data": {
      "text/html": [
       "<div>\n",
       "<style scoped>\n",
       "    .dataframe tbody tr th:only-of-type {\n",
       "        vertical-align: middle;\n",
       "    }\n",
       "\n",
       "    .dataframe tbody tr th {\n",
       "        vertical-align: top;\n",
       "    }\n",
       "\n",
       "    .dataframe thead th {\n",
       "        text-align: right;\n",
       "    }\n",
       "</style>\n",
       "<table border=\"1\" class=\"dataframe\">\n",
       "  <thead>\n",
       "    <tr style=\"text-align: right;\">\n",
       "      <th></th>\n",
       "      <th>WEEK_LABEL</th>\n",
       "      <th>DIAGNOSIS_CATEGORY</th>\n",
       "      <th>AGE_CLASS</th>\n",
       "      <th>RSS_DURATION_CLASS</th>\n",
       "      <th>N_CASES</th>\n",
       "    </tr>\n",
       "  </thead>\n",
       "  <tbody>\n",
       "    <tr>\n",
       "      <th>0</th>\n",
       "      <td>2023-01-02</td>\n",
       "      <td>COVID_19</td>\n",
       "      <td>65 years and older</td>\n",
       "      <td>5 days and more</td>\n",
       "      <td>43.0</td>\n",
       "    </tr>\n",
       "    <tr>\n",
       "      <th>1</th>\n",
       "      <td>2023-01-02</td>\n",
       "      <td>RI_OTHER_VIRUS</td>\n",
       "      <td>[1 - 5[ year(s)</td>\n",
       "      <td>5 days and more</td>\n",
       "      <td>2.0</td>\n",
       "    </tr>\n",
       "    <tr>\n",
       "      <th>2</th>\n",
       "      <td>2023-01-02</td>\n",
       "      <td>RI_OTHER_VIRUS</td>\n",
       "      <td>Less than 1 year</td>\n",
       "      <td>[2 - 5[ days</td>\n",
       "      <td>0.0</td>\n",
       "    </tr>\n",
       "    <tr>\n",
       "      <th>3</th>\n",
       "      <td>2023-01-02</td>\n",
       "      <td>RI_OTHER_VIRUS</td>\n",
       "      <td>Less than 1 year</td>\n",
       "      <td>Less than 2 days</td>\n",
       "      <td>0.0</td>\n",
       "    </tr>\n",
       "    <tr>\n",
       "      <th>4</th>\n",
       "      <td>2023-01-02</td>\n",
       "      <td>RI_OTHER_VIRUS</td>\n",
       "      <td>Less than 1 year</td>\n",
       "      <td>5 days and more</td>\n",
       "      <td>0.0</td>\n",
       "    </tr>\n",
       "    <tr>\n",
       "      <th>...</th>\n",
       "      <td>...</td>\n",
       "      <td>...</td>\n",
       "      <td>...</td>\n",
       "      <td>...</td>\n",
       "      <td>...</td>\n",
       "    </tr>\n",
       "    <tr>\n",
       "      <th>4963</th>\n",
       "      <td>2023-11-13</td>\n",
       "      <td>FLU</td>\n",
       "      <td>[20 - 50[ years</td>\n",
       "      <td>[2 - 5[ days</td>\n",
       "      <td>0.0</td>\n",
       "    </tr>\n",
       "    <tr>\n",
       "      <th>4964</th>\n",
       "      <td>2023-11-13</td>\n",
       "      <td>FLU</td>\n",
       "      <td>[20 - 50[ years</td>\n",
       "      <td>Less than 2 days</td>\n",
       "      <td>0.0</td>\n",
       "    </tr>\n",
       "    <tr>\n",
       "      <th>4965</th>\n",
       "      <td>2023-11-13</td>\n",
       "      <td>FLU</td>\n",
       "      <td>[20 - 50[ years</td>\n",
       "      <td>5 days and more</td>\n",
       "      <td>0.0</td>\n",
       "    </tr>\n",
       "    <tr>\n",
       "      <th>4966</th>\n",
       "      <td>2023-11-13</td>\n",
       "      <td>GENERAL_RI</td>\n",
       "      <td>65 years and older</td>\n",
       "      <td>[2 - 5[ days</td>\n",
       "      <td>1.0</td>\n",
       "    </tr>\n",
       "    <tr>\n",
       "      <th>4967</th>\n",
       "      <td>2023-11-13</td>\n",
       "      <td>RSV</td>\n",
       "      <td>[50 - 65[ years</td>\n",
       "      <td>[2 - 5[ days</td>\n",
       "      <td>0.0</td>\n",
       "    </tr>\n",
       "  </tbody>\n",
       "</table>\n",
       "<p>4968 rows × 5 columns</p>\n",
       "</div>"
      ],
      "text/plain": [
       "\n",
       "      WEEK_LABEL DIAGNOSIS_CATEGORY           AGE_CLASS RSS_DURATION_CLASS  \\\n",
       "\u001b[1;36m0\u001b[0m     \u001b[1;36m2023\u001b[0m-\u001b[1;36m01\u001b[0m-\u001b[1;36m02\u001b[0m           COVID_19  \u001b[1;36m65\u001b[0m years and older    \u001b[1;36m5\u001b[0m days and more   \n",
       "\u001b[1;36m1\u001b[0m     \u001b[1;36m2023\u001b[0m-\u001b[1;36m01\u001b[0m-\u001b[1;36m02\u001b[0m     RI_OTHER_VIRUS     \u001b[1m[\u001b[0m\u001b[1;36m1\u001b[0m - \u001b[1;36m5\u001b[0m\u001b[1m[\u001b[0m \u001b[1;35myear\u001b[0m\u001b[1m(\u001b[0ms\u001b[1m)\u001b[0m    \u001b[1;36m5\u001b[0m days and more   \n",
       "\u001b[1;36m2\u001b[0m     \u001b[1;36m2023\u001b[0m-\u001b[1;36m01\u001b[0m-\u001b[1;36m02\u001b[0m     RI_OTHER_VIRUS    Less than \u001b[1;36m1\u001b[0m year       \u001b[1m[\u001b[0m\u001b[1;36m2\u001b[0m - \u001b[1;36m5\u001b[0m\u001b[1m[\u001b[0m days   \n",
       "\u001b[1;36m3\u001b[0m     \u001b[1;36m2023\u001b[0m-\u001b[1;36m01\u001b[0m-\u001b[1;36m02\u001b[0m     RI_OTHER_VIRUS    Less than \u001b[1;36m1\u001b[0m year   Less than \u001b[1;36m2\u001b[0m days   \n",
       "\u001b[1;36m4\u001b[0m     \u001b[1;36m2023\u001b[0m-\u001b[1;36m01\u001b[0m-\u001b[1;36m02\u001b[0m     RI_OTHER_VIRUS    Less than \u001b[1;36m1\u001b[0m year    \u001b[1;36m5\u001b[0m days and more   \n",
       "\u001b[33m...\u001b[0m          \u001b[33m...\u001b[0m                \u001b[33m...\u001b[0m                 \u001b[33m...\u001b[0m                \u001b[33m...\u001b[0m   \n",
       "\u001b[1;36m4963\u001b[0m  \u001b[1;36m2023\u001b[0m-\u001b[1;36m11\u001b[0m-\u001b[1;36m13\u001b[0m                FLU     \u001b[1m[\u001b[0m\u001b[1;36m20\u001b[0m - \u001b[1;36m50\u001b[0m\u001b[1m[\u001b[0m years       \u001b[1m[\u001b[0m\u001b[1;36m2\u001b[0m - \u001b[1;36m5\u001b[0m\u001b[1m[\u001b[0m days   \n",
       "\u001b[1;36m4964\u001b[0m  \u001b[1;36m2023\u001b[0m-\u001b[1;36m11\u001b[0m-\u001b[1;36m13\u001b[0m                FLU     \u001b[1m[\u001b[0m\u001b[1;36m20\u001b[0m - \u001b[1;36m50\u001b[0m\u001b[1m[\u001b[0m years   Less than \u001b[1;36m2\u001b[0m days   \n",
       "\u001b[1;36m4965\u001b[0m  \u001b[1;36m2023\u001b[0m-\u001b[1;36m11\u001b[0m-\u001b[1;36m13\u001b[0m                FLU     \u001b[1m[\u001b[0m\u001b[1;36m20\u001b[0m - \u001b[1;36m50\u001b[0m\u001b[1m[\u001b[0m years    \u001b[1;36m5\u001b[0m days and more   \n",
       "\u001b[1;36m4966\u001b[0m  \u001b[1;36m2023\u001b[0m-\u001b[1;36m11\u001b[0m-\u001b[1;36m13\u001b[0m         GENERAL_RI  \u001b[1;36m65\u001b[0m years and older       \u001b[1m[\u001b[0m\u001b[1;36m2\u001b[0m - \u001b[1;36m5\u001b[0m\u001b[1m[\u001b[0m days   \n",
       "\u001b[1;36m4967\u001b[0m  \u001b[1;36m2023\u001b[0m-\u001b[1;36m11\u001b[0m-\u001b[1;36m13\u001b[0m                RSV     \u001b[1m[\u001b[0m\u001b[1;36m50\u001b[0m - \u001b[1;36m65\u001b[0m\u001b[1m[\u001b[0m years       \u001b[1m[\u001b[0m\u001b[1;36m2\u001b[0m - \u001b[1;36m5\u001b[0m\u001b[1m[\u001b[0m days   \n",
       "\n",
       "      N_CASES  \n",
       "\u001b[1;36m0\u001b[0m        \u001b[1;36m43.0\u001b[0m  \n",
       "\u001b[1;36m1\u001b[0m         \u001b[1;36m2.0\u001b[0m  \n",
       "\u001b[1;36m2\u001b[0m         \u001b[1;36m0.0\u001b[0m  \n",
       "\u001b[1;36m3\u001b[0m         \u001b[1;36m0.0\u001b[0m  \n",
       "\u001b[1;36m4\u001b[0m         \u001b[1;36m0.0\u001b[0m  \n",
       "\u001b[33m...\u001b[0m       \u001b[33m...\u001b[0m  \n",
       "\u001b[1;36m4963\u001b[0m      \u001b[1;36m0.0\u001b[0m  \n",
       "\u001b[1;36m4964\u001b[0m      \u001b[1;36m0.0\u001b[0m  \n",
       "\u001b[1;36m4965\u001b[0m      \u001b[1;36m0.0\u001b[0m  \n",
       "\u001b[1;36m4966\u001b[0m      \u001b[1;36m1.0\u001b[0m  \n",
       "\u001b[1;36m4967\u001b[0m      \u001b[1;36m0.0\u001b[0m  \n",
       "\n",
       "\u001b[1m[\u001b[0m\u001b[1;36m4968\u001b[0m rows x \u001b[1;36m5\u001b[0m columns\u001b[1m]\u001b[0m"
      ]
     },
     "execution_count": 34,
     "metadata": {},
     "output_type": "execute_result"
    }
   ],
   "source": [
    "# Load the paediatric data :AIOLOS19-12-2023\n",
    "import pandas as pd\n",
    "import numpy as np\n",
    "\n",
    "# Load the data in xlsx file \n",
    "df = pd.read_csv('../data/04_feature/table_I_missing_data.csv')\n",
    "\n",
    "df[\"N_CASES\"]"
   ]
  },
  {
   "cell_type": "code",
   "execution_count": 39,
   "metadata": {},
   "outputs": [],
   "source": [
    "resultat_filtré = df[(df['DIAGNOSIS_CATEGORY'] == 'COVID_19')]\n",
    "resultat_filtré = resultat_filtré[(resultat_filtré['AGE_CLASS'] == '65 years and older')]\n",
    "df_filtered = resultat_filtré[(resultat_filtré['RSS_DURATION_CLASS'] == '5 days and more')]"
   ]
  },
  {
   "cell_type": "code",
   "execution_count": 44,
   "metadata": {},
   "outputs": [],
   "source": [
    "# Load the paediatric data :AIOLOS19-12-2023\n",
    "from scipy import stats\n",
    "import numpy as np\n",
    "\n",
    "# Load the data in xlsx file \n",
    "\n",
    "mean, sigma = np.mean(df_filtered[\"N_CASES\"]), np.std(df_filtered[\"N_CASES\"])"
   ]
  },
  {
   "cell_type": "code",
   "execution_count": 46,
   "metadata": {},
   "outputs": [
    {
     "data": {
      "text/html": [
       "<pre style=\"white-space:pre;overflow-x:auto;line-height:normal;font-family:Menlo,'DejaVu Sans Mono',consolas,'Courier New',monospace\"></pre>\n"
      ],
      "text/plain": []
     },
     "metadata": {},
     "output_type": "display_data"
    },
    {
     "data": {
      "text/plain": [
       "\u001b[1m(\u001b[0m\u001b[1;36m-2.1193192004769656\u001b[0m, \u001b[1;36m39.858449635259575\u001b[0m\u001b[1m)\u001b[0m"
      ]
     },
     "execution_count": 46,
     "metadata": {},
     "output_type": "execute_result"
    }
   ],
   "source": [
    "conf_int = stats.norm.interval(0.95, loc=mean, \n",
    "    scale=sigma)\n",
    "conf_int"
   ]
  },
  {
   "cell_type": "code",
   "execution_count": null,
   "metadata": {},
   "outputs": [
    {
     "data": {
      "text/html": [
       "<pre style=\"white-space:pre;overflow-x:auto;line-height:normal;font-family:Menlo,'DejaVu Sans Mono',consolas,'Courier New',monospace\"></pre>\n"
      ],
      "text/plain": []
     },
     "metadata": {},
     "output_type": "display_data"
    },
    {
     "data": {
      "text/plain": [
       "\u001b[1m(\u001b[0m\u001b[1;36m-2.1193192004769656\u001b[0m, \u001b[1;36m39.858449635259575\u001b[0m\u001b[1m)\u001b[0m"
      ]
     },
     "metadata": {},
     "output_type": "display_data"
    }
   ],
   "source": [
    "conf_int = stats.norm.interval(0.95, loc=mean, \n",
    "    scale=sigma)\n",
    "conf_int"
   ]
  }
 ],
 "metadata": {
  "kernelspec": {
   "display_name": "kedro-environment",
   "language": "python",
   "name": "python3"
  },
  "language_info": {
   "codemirror_mode": {
    "name": "ipython",
    "version": 3
   },
   "file_extension": ".py",
   "mimetype": "text/x-python",
   "name": "python",
   "nbconvert_exporter": "python",
   "pygments_lexer": "ipython3",
   "version": "3.10.12"
  }
 },
 "nbformat": 4,
 "nbformat_minor": 2
}
