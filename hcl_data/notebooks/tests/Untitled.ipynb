{
 "cells": [
  {
   "cell_type": "code",
   "execution_count": null,
   "id": "8802ee24",
   "metadata": {},
   "outputs": [
    {
     "data": {
      "text/plain": [
       "<paramiko.sftp_client.SFTPClient at 0x1b6083616c0>"
      ]
     },
     "execution_count": 11,
     "metadata": {},
     "output_type": "execute_result"
    },
    {
     "name": "stderr",
     "output_type": "stream",
     "text": [
      "Socket exception: Une connexion existante a dû être fermée par l’hôte distant (10054)\n",
      "Socket exception: Une connexion existante a dû être fermée par l’hôte distant (10054)\n",
      "Socket exception: Une connexion existante a dû être fermée par l’hôte distant (10054)\n",
      "Socket exception: Une connexion existante a dû être fermée par l’hôte distant (10054)\n"
     ]
    }
   ],
   "source": [
    "import pandas as pd\n",
    "import paramiko\n",
    "\n",
    "host = '193.218.11.199'\n",
    "port = 2222  # Default SFTP port\n",
    "username = 'Aiolos2'\n",
    "password = 'cmxJwnSmzPnQa55'  # You can also use a key-based authentication\n",
    "\n",
    "transport = paramiko.Transport((host, port))\n",
    "transport.connect(username=username, password=password)\n",
    "sftp = paramiko.SFTPClient.from_transport(transport)\n",
    "sftp"
   ]
  },
  {
   "cell_type": "code",
   "execution_count": 5,
   "id": "44894002",
   "metadata": {},
   "outputs": [
    {
     "name": "stdout",
     "output_type": "stream",
     "text": [
      "Files in the directory:\n",
      "GRIPPE - III.csv\n",
      "IR AUTVIRUS - III_cleaned.csv\n",
      "Aiolos_cleaned.xlsx\n",
      "IR AUTVIRUS - II.csv\n",
      "COVID-19 - I.csv\n",
      "RSV - I.csv\n",
      "Aiolos_HCL Lab data_S41 2023_cleaned.xlsx\n",
      "Aiolos_HCL Lab data_S38 2023_cleaned.xlsx\n",
      "IR GENERALE - III_cleaned.csv\n",
      "IR GENERALE - II_cleaned.csv\n",
      "Aiolos_HCL Lab data_S40 2023_cleaned.xlsx\n",
      "Data_structure_Umlaut.pptx\n",
      "GRIPPE - II_cleaned.csv\n",
      "COVID-19 - III.csv\n",
      "RSV - III.csv\n",
      "COVID-19 - III_cleaned.csv\n",
      "COVID-19 - II_cleaned.csv\n",
      "GRIPPE - III_cleaned.csv\n",
      "COVID-19 - II.csv\n",
      "IR AUTVIRUS - II_cleaned.csv\n",
      "IR AUTVIRUS - I_cleaned.csv\n",
      "IR GENERALE - I.csv\n",
      "RSV - I_cleaned.csv\n",
      "hcl_data_description2.PNG\n",
      "RSV - III_cleaned.csv\n",
      "GRIPPE - II.csv\n",
      "hcl_data_description1.PNG\n",
      "hcl_lab_value.xlsx\n",
      "Data_structure_HCL_labs.xlsx\n",
      "Aiolos_HCL Lab data_S39 2023_cleaned.xlsx\n",
      "PROJET_AIOLOS - Version 4 - Sem 1 a 28 - 2023_cleaned.zip\n",
      "IR GENERALE - I_cleaned.csv\n",
      "RSV - II_cleaned.csv\n",
      "GRIPPE - I_cleaned.csv\n",
      "GRIPPE - I.csv\n",
      "RSV - II.csv\n",
      "COVID-19 - I_cleaned.csv\n",
      "IR GENERALE - II.csv\n",
      "IR AUTVIRUS - I.csv\n",
      "IR GENERALE - III.csv\n",
      "IR AUTVIRUS - III.csv\n"
     ]
    }
   ],
   "source": [
    "import paramiko\n",
    "import pandas as pd\n",
    "\n",
    "import pandas as pd\n",
    "import paramiko\n",
    "\n",
    "host = '193.218.11.199'\n",
    "port = 2222  # Default SFTP port\n",
    "username = 'Aiolos2'\n",
    "password = 'cmxJwnSmzPnQa55'  # You can also use a key-based authentication\n",
    "\n",
    "transport = paramiko.Transport((host, port))\n",
    "transport.connect(username=username, password=password)\n",
    "sftp = paramiko.SFTPClient.from_transport(transport)\n",
    " \n",
    "# Specify the directory path you want to list files from\n",
    "directory_path = '/upload/Test_Data/hcl_data'\n",
    " \n",
    "# List files in the specified directory\n",
    "file_list = sftp.listdir(directory_path)\n",
    " \n",
    "# Print the list of files\n",
    "print(\"Files in the directory:\")\n",
    "for file_name in file_list:\n",
    "    print(file_name)\n"
   ]
  }
 ],
 "metadata": {
  "kernelspec": {
   "display_name": "kedro-environment",
   "language": "python",
   "name": "python3"
  },
  "language_info": {
   "codemirror_mode": {
    "name": "ipython",
    "version": 3
   },
   "file_extension": ".py",
   "mimetype": "text/x-python",
   "name": "python",
   "nbconvert_exporter": "python",
   "pygments_lexer": "ipython3",
   "version": "3.10.12"
  }
 },
 "nbformat": 4,
 "nbformat_minor": 5
}
