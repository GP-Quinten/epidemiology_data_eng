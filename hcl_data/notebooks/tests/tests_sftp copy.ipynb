{
 "cells": [
  {
   "cell_type": "code",
   "execution_count": 1,
   "metadata": {},
   "outputs": [
    {
     "name": "stdout",
     "output_type": "stream",
     "text": [
      "[08/31/23 10:51:50] INFO     Kedro project hcl_data              session.py:359\n",
      "[08/31/23 10:51:51] INFO     Loading data from 'COVID_19_I' data_catalog.py:345\n",
      "                             (CSVDataSet)...                                   \n",
      "                    WARNING  No nodes ran. Repeat the previous    runner.py:202\n",
      "                             command to attempt a new run.                     \n"
     ]
    },
    {
     "name": "stderr",
     "output_type": "stream",
     "text": [
      "┌───────────────────── Traceback (most recent call last) ─────────────────────┐\n",
      "│ C:\\Users\\tfauvel\\.conda\\envs\\kedro-environment\\lib\\site-packages\\kedro\\io\\c │\n",
      "│ ore.py:210 in load                                                          │\n",
      "│                                                                             │\n",
      "│ C:\\Users\\tfauvel\\.conda\\envs\\kedro-environment\\lib\\site-packages\\kedro_data │\n",
      "│ sets\\pandas\\csv_dataset.py:165 in _load                                     │\n",
      "│                                                                             │\n",
      "│ C:\\Users\\tfauvel\\.conda\\envs\\kedro-environment\\lib\\site-packages\\pandas\\io\\ │\n",
      "│ parsers\\readers.py:912 in read_csv                                          │\n",
      "│                                                                             │\n",
      "│ C:\\Users\\tfauvel\\.conda\\envs\\kedro-environment\\lib\\site-packages\\pandas\\io\\ │\n",
      "│ parsers\\readers.py:577 in _read                                             │\n",
      "│                                                                             │\n",
      "│ C:\\Users\\tfauvel\\.conda\\envs\\kedro-environment\\lib\\site-packages\\pandas\\io\\ │\n",
      "│ parsers\\readers.py:1407 in __init__                                         │\n",
      "│                                                                             │\n",
      "│ C:\\Users\\tfauvel\\.conda\\envs\\kedro-environment\\lib\\site-packages\\pandas\\io\\ │\n",
      "│ parsers\\readers.py:1661 in _make_engine                                     │\n",
      "│                                                                             │\n",
      "│ C:\\Users\\tfauvel\\.conda\\envs\\kedro-environment\\lib\\site-packages\\pandas\\io\\ │\n",
      "│ common.py:716 in get_handle                                                 │\n",
      "│                                                                             │\n",
      "│ C:\\Users\\tfauvel\\.conda\\envs\\kedro-environment\\lib\\site-packages\\pandas\\io\\ │\n",
      "│ common.py:368 in _get_filepath_or_buffer                                    │\n",
      "│                                                                             │\n",
      "│ C:\\Users\\tfauvel\\.conda\\envs\\kedro-environment\\lib\\site-packages\\pandas\\io\\ │\n",
      "│ common.py:270 in urlopen                                                    │\n",
      "│                                                                             │\n",
      "│ C:\\Users\\tfauvel\\.conda\\envs\\kedro-environment\\lib\\urllib\\request.py:216 in │\n",
      "│ urlopen                                                                     │\n",
      "│                                                                             │\n",
      "│ C:\\Users\\tfauvel\\.conda\\envs\\kedro-environment\\lib\\urllib\\request.py:519 in │\n",
      "│ open                                                                        │\n",
      "│                                                                             │\n",
      "│ C:\\Users\\tfauvel\\.conda\\envs\\kedro-environment\\lib\\urllib\\request.py:541 in │\n",
      "│ _open                                                                       │\n",
      "│                                                                             │\n",
      "│ C:\\Users\\tfauvel\\.conda\\envs\\kedro-environment\\lib\\urllib\\request.py:496 in │\n",
      "│ _call_chain                                                                 │\n",
      "│                                                                             │\n",
      "│ C:\\Users\\tfauvel\\.conda\\envs\\kedro-environment\\lib\\urllib\\request.py:1419   │\n",
      "│ in unknown_open                                                             │\n",
      "└─────────────────────────────────────────────────────────────────────────────┘\n",
      "URLError: <urlopen error unknown url type: sftp>\n",
      "\n",
      "The above exception was the direct cause of the following exception:\n",
      "\n",
      "┌───────────────────── Traceback (most recent call last) ─────────────────────┐\n",
      "│ C:\\Users\\tfauvel\\.conda\\envs\\kedro-environment\\lib\\runpy.py:196 in          │\n",
      "│ _run_module_as_main                                                         │\n",
      "│                                                                             │\n",
      "│ C:\\Users\\tfauvel\\.conda\\envs\\kedro-environment\\lib\\runpy.py:86 in _run_code │\n",
      "│                                                                             │\n",
      "│ in <module>:7                                                               │\n",
      "│                                                                             │\n",
      "│ C:\\Users\\tfauvel\\.conda\\envs\\kedro-environment\\lib\\site-packages\\kedro\\fram │\n",
      "│ ework\\cli\\cli.py:211 in main                                                │\n",
      "│                                                                             │\n",
      "│ C:\\Users\\tfauvel\\.conda\\envs\\kedro-environment\\lib\\site-packages\\click\\core │\n",
      "│ .py:1130 in __call__                                                        │\n",
      "│                                                                             │\n",
      "│ C:\\Users\\tfauvel\\.conda\\envs\\kedro-environment\\lib\\site-packages\\kedro\\fram │\n",
      "│ ework\\cli\\cli.py:139 in main                                                │\n",
      "│                                                                             │\n",
      "│ C:\\Users\\tfauvel\\.conda\\envs\\kedro-environment\\lib\\site-packages\\click\\core │\n",
      "│ .py:1055 in main                                                            │\n",
      "│                                                                             │\n",
      "│ C:\\Users\\tfauvel\\.conda\\envs\\kedro-environment\\lib\\site-packages\\click\\core │\n",
      "│ .py:1657 in invoke                                                          │\n",
      "│                                                                             │\n",
      "│ C:\\Users\\tfauvel\\.conda\\envs\\kedro-environment\\lib\\site-packages\\click\\core │\n",
      "│ .py:1404 in invoke                                                          │\n",
      "│                                                                             │\n",
      "│ C:\\Users\\tfauvel\\.conda\\envs\\kedro-environment\\lib\\site-packages\\click\\core │\n",
      "│ .py:760 in invoke                                                           │\n",
      "│                                                                             │\n",
      "│ C:\\Users\\tfauvel\\.conda\\envs\\kedro-environment\\lib\\site-packages\\kedro\\fram │\n",
      "│ ework\\cli\\project.py:459 in run                                             │\n",
      "│                                                                             │\n",
      "│ C:\\Users\\tfauvel\\.conda\\envs\\kedro-environment\\lib\\site-packages\\kedro\\fram │\n",
      "│ ework\\session\\session.py:425 in run                                         │\n",
      "│                                                                             │\n",
      "│ C:\\Users\\tfauvel\\.conda\\envs\\kedro-environment\\lib\\site-packages\\kedro\\runn │\n",
      "│ er\\runner.py:92 in run                                                      │\n",
      "│                                                                             │\n",
      "│ C:\\Users\\tfauvel\\.conda\\envs\\kedro-environment\\lib\\site-packages\\kedro\\runn │\n",
      "│ er\\sequential_runner.py:70 in _run                                          │\n",
      "│                                                                             │\n",
      "│ C:\\Users\\tfauvel\\.conda\\envs\\kedro-environment\\lib\\site-packages\\kedro\\runn │\n",
      "│ er\\runner.py:320 in run_node                                                │\n",
      "│                                                                             │\n",
      "│ C:\\Users\\tfauvel\\.conda\\envs\\kedro-environment\\lib\\site-packages\\kedro\\runn │\n",
      "│ er\\runner.py:404 in _run_node_sequential                                    │\n",
      "│                                                                             │\n",
      "│ C:\\Users\\tfauvel\\.conda\\envs\\kedro-environment\\lib\\site-packages\\kedro\\io\\d │\n",
      "│ ata_catalog.py:349 in load                                                  │\n",
      "│                                                                             │\n",
      "│ C:\\Users\\tfauvel\\.conda\\envs\\kedro-environment\\lib\\site-packages\\kedro\\io\\c │\n",
      "│ ore.py:631 in load                                                          │\n",
      "│                                                                             │\n",
      "│ C:\\Users\\tfauvel\\.conda\\envs\\kedro-environment\\lib\\site-packages\\kedro\\io\\c │\n",
      "│ ore.py:219 in load                                                          │\n",
      "└─────────────────────────────────────────────────────────────────────────────┘\n",
      "DatasetError: Failed while loading data from data set \n",
      "CSVDataSet(filepath=/upload/Test_Data/hcl_data/COVID-19-I_cleaned.csv, \n",
      "load_args={'encoding': latin1, 'quotechar': \", 'sep': ,}, protocol=sftp, \n",
      "save_args={'index': False}).\n",
      "<urlopen error unknown url type: sftp>\n"
     ]
    }
   ],
   "source": [
    "!kedro run"
   ]
  },
  {
   "cell_type": "code",
   "execution_count": null,
   "metadata": {},
   "outputs": [],
   "source": [
    "COVID_19_I_source:\n",
    "  type: pandas.CSVDataSet  \n",
    "  filepath: sftp://193.218.11.199/upload/Test_Data/hcl_data/COVID_19-I_cleaned.csv\n",
    "  credentials : cgm_credentials\n",
    "  load_args:\n",
    "                sep: \",\"\n",
    "                encoding: latin1\n",
    "                quotechar: '\"'"
   ]
  },
  {
   "cell_type": "code",
   "execution_count": 17,
   "metadata": {},
   "outputs": [
    {
     "ename": "URLError",
     "evalue": "<urlopen error unknown url type: sftp>",
     "output_type": "error",
     "traceback": [
      "\u001b[1;31m---------------------------------------------------------------------------\u001b[0m",
      "\u001b[1;31mURLError\u001b[0m                                  Traceback (most recent call last)",
      "Cell \u001b[1;32mIn[17], line 1\u001b[0m\n\u001b[1;32m----> 1\u001b[0m pd\u001b[39m.\u001b[39;49mread_csv(\u001b[39m'\u001b[39;49m\u001b[39msftp://193.218.11.199/upload/Test_Data/hcl_data/COVID-19-I_cleaned.csv\u001b[39;49m\u001b[39m'\u001b[39;49m)\n",
      "File \u001b[1;32mc:\\Users\\tfauvel\\.conda\\envs\\kedro-environment\\lib\\site-packages\\pandas\\io\\parsers\\readers.py:912\u001b[0m, in \u001b[0;36mread_csv\u001b[1;34m(filepath_or_buffer, sep, delimiter, header, names, index_col, usecols, dtype, engine, converters, true_values, false_values, skipinitialspace, skiprows, skipfooter, nrows, na_values, keep_default_na, na_filter, verbose, skip_blank_lines, parse_dates, infer_datetime_format, keep_date_col, date_parser, date_format, dayfirst, cache_dates, iterator, chunksize, compression, thousands, decimal, lineterminator, quotechar, quoting, doublequote, escapechar, comment, encoding, encoding_errors, dialect, on_bad_lines, delim_whitespace, low_memory, memory_map, float_precision, storage_options, dtype_backend)\u001b[0m\n\u001b[0;32m    899\u001b[0m kwds_defaults \u001b[39m=\u001b[39m _refine_defaults_read(\n\u001b[0;32m    900\u001b[0m     dialect,\n\u001b[0;32m    901\u001b[0m     delimiter,\n\u001b[1;32m   (...)\u001b[0m\n\u001b[0;32m    908\u001b[0m     dtype_backend\u001b[39m=\u001b[39mdtype_backend,\n\u001b[0;32m    909\u001b[0m )\n\u001b[0;32m    910\u001b[0m kwds\u001b[39m.\u001b[39mupdate(kwds_defaults)\n\u001b[1;32m--> 912\u001b[0m \u001b[39mreturn\u001b[39;00m _read(filepath_or_buffer, kwds)\n",
      "File \u001b[1;32mc:\\Users\\tfauvel\\.conda\\envs\\kedro-environment\\lib\\site-packages\\pandas\\io\\parsers\\readers.py:577\u001b[0m, in \u001b[0;36m_read\u001b[1;34m(filepath_or_buffer, kwds)\u001b[0m\n\u001b[0;32m    574\u001b[0m _validate_names(kwds\u001b[39m.\u001b[39mget(\u001b[39m\"\u001b[39m\u001b[39mnames\u001b[39m\u001b[39m\"\u001b[39m, \u001b[39mNone\u001b[39;00m))\n\u001b[0;32m    576\u001b[0m \u001b[39m# Create the parser.\u001b[39;00m\n\u001b[1;32m--> 577\u001b[0m parser \u001b[39m=\u001b[39m TextFileReader(filepath_or_buffer, \u001b[39m*\u001b[39m\u001b[39m*\u001b[39mkwds)\n\u001b[0;32m    579\u001b[0m \u001b[39mif\u001b[39;00m chunksize \u001b[39mor\u001b[39;00m iterator:\n\u001b[0;32m    580\u001b[0m     \u001b[39mreturn\u001b[39;00m parser\n",
      "File \u001b[1;32mc:\\Users\\tfauvel\\.conda\\envs\\kedro-environment\\lib\\site-packages\\pandas\\io\\parsers\\readers.py:1407\u001b[0m, in \u001b[0;36mTextFileReader.__init__\u001b[1;34m(self, f, engine, **kwds)\u001b[0m\n\u001b[0;32m   1404\u001b[0m     \u001b[39mself\u001b[39m\u001b[39m.\u001b[39moptions[\u001b[39m\"\u001b[39m\u001b[39mhas_index_names\u001b[39m\u001b[39m\"\u001b[39m] \u001b[39m=\u001b[39m kwds[\u001b[39m\"\u001b[39m\u001b[39mhas_index_names\u001b[39m\u001b[39m\"\u001b[39m]\n\u001b[0;32m   1406\u001b[0m \u001b[39mself\u001b[39m\u001b[39m.\u001b[39mhandles: IOHandles \u001b[39m|\u001b[39m \u001b[39mNone\u001b[39;00m \u001b[39m=\u001b[39m \u001b[39mNone\u001b[39;00m\n\u001b[1;32m-> 1407\u001b[0m \u001b[39mself\u001b[39m\u001b[39m.\u001b[39m_engine \u001b[39m=\u001b[39m \u001b[39mself\u001b[39;49m\u001b[39m.\u001b[39;49m_make_engine(f, \u001b[39mself\u001b[39;49m\u001b[39m.\u001b[39;49mengine)\n",
      "File \u001b[1;32mc:\\Users\\tfauvel\\.conda\\envs\\kedro-environment\\lib\\site-packages\\pandas\\io\\parsers\\readers.py:1661\u001b[0m, in \u001b[0;36mTextFileReader._make_engine\u001b[1;34m(self, f, engine)\u001b[0m\n\u001b[0;32m   1659\u001b[0m     \u001b[39mif\u001b[39;00m \u001b[39m\"\u001b[39m\u001b[39mb\u001b[39m\u001b[39m\"\u001b[39m \u001b[39mnot\u001b[39;00m \u001b[39min\u001b[39;00m mode:\n\u001b[0;32m   1660\u001b[0m         mode \u001b[39m+\u001b[39m\u001b[39m=\u001b[39m \u001b[39m\"\u001b[39m\u001b[39mb\u001b[39m\u001b[39m\"\u001b[39m\n\u001b[1;32m-> 1661\u001b[0m \u001b[39mself\u001b[39m\u001b[39m.\u001b[39mhandles \u001b[39m=\u001b[39m get_handle(\n\u001b[0;32m   1662\u001b[0m     f,\n\u001b[0;32m   1663\u001b[0m     mode,\n\u001b[0;32m   1664\u001b[0m     encoding\u001b[39m=\u001b[39;49m\u001b[39mself\u001b[39;49m\u001b[39m.\u001b[39;49moptions\u001b[39m.\u001b[39;49mget(\u001b[39m\"\u001b[39;49m\u001b[39mencoding\u001b[39;49m\u001b[39m\"\u001b[39;49m, \u001b[39mNone\u001b[39;49;00m),\n\u001b[0;32m   1665\u001b[0m     compression\u001b[39m=\u001b[39;49m\u001b[39mself\u001b[39;49m\u001b[39m.\u001b[39;49moptions\u001b[39m.\u001b[39;49mget(\u001b[39m\"\u001b[39;49m\u001b[39mcompression\u001b[39;49m\u001b[39m\"\u001b[39;49m, \u001b[39mNone\u001b[39;49;00m),\n\u001b[0;32m   1666\u001b[0m     memory_map\u001b[39m=\u001b[39;49m\u001b[39mself\u001b[39;49m\u001b[39m.\u001b[39;49moptions\u001b[39m.\u001b[39;49mget(\u001b[39m\"\u001b[39;49m\u001b[39mmemory_map\u001b[39;49m\u001b[39m\"\u001b[39;49m, \u001b[39mFalse\u001b[39;49;00m),\n\u001b[0;32m   1667\u001b[0m     is_text\u001b[39m=\u001b[39;49mis_text,\n\u001b[0;32m   1668\u001b[0m     errors\u001b[39m=\u001b[39;49m\u001b[39mself\u001b[39;49m\u001b[39m.\u001b[39;49moptions\u001b[39m.\u001b[39;49mget(\u001b[39m\"\u001b[39;49m\u001b[39mencoding_errors\u001b[39;49m\u001b[39m\"\u001b[39;49m, \u001b[39m\"\u001b[39;49m\u001b[39mstrict\u001b[39;49m\u001b[39m\"\u001b[39;49m),\n\u001b[0;32m   1669\u001b[0m     storage_options\u001b[39m=\u001b[39;49m\u001b[39mself\u001b[39;49m\u001b[39m.\u001b[39;49moptions\u001b[39m.\u001b[39;49mget(\u001b[39m\"\u001b[39;49m\u001b[39mstorage_options\u001b[39;49m\u001b[39m\"\u001b[39;49m, \u001b[39mNone\u001b[39;49;00m),\n\u001b[0;32m   1670\u001b[0m )\n\u001b[0;32m   1671\u001b[0m \u001b[39massert\u001b[39;00m \u001b[39mself\u001b[39m\u001b[39m.\u001b[39mhandles \u001b[39mis\u001b[39;00m \u001b[39mnot\u001b[39;00m \u001b[39mNone\u001b[39;00m\n\u001b[0;32m   1672\u001b[0m f \u001b[39m=\u001b[39m \u001b[39mself\u001b[39m\u001b[39m.\u001b[39mhandles\u001b[39m.\u001b[39mhandle\n",
      "File \u001b[1;32mc:\\Users\\tfauvel\\.conda\\envs\\kedro-environment\\lib\\site-packages\\pandas\\io\\common.py:716\u001b[0m, in \u001b[0;36mget_handle\u001b[1;34m(path_or_buf, mode, encoding, compression, memory_map, is_text, errors, storage_options)\u001b[0m\n\u001b[0;32m    713\u001b[0m     codecs\u001b[39m.\u001b[39mlookup_error(errors)\n\u001b[0;32m    715\u001b[0m \u001b[39m# open URLs\u001b[39;00m\n\u001b[1;32m--> 716\u001b[0m ioargs \u001b[39m=\u001b[39m _get_filepath_or_buffer(\n\u001b[0;32m    717\u001b[0m     path_or_buf,\n\u001b[0;32m    718\u001b[0m     encoding\u001b[39m=\u001b[39;49mencoding,\n\u001b[0;32m    719\u001b[0m     compression\u001b[39m=\u001b[39;49mcompression,\n\u001b[0;32m    720\u001b[0m     mode\u001b[39m=\u001b[39;49mmode,\n\u001b[0;32m    721\u001b[0m     storage_options\u001b[39m=\u001b[39;49mstorage_options,\n\u001b[0;32m    722\u001b[0m )\n\u001b[0;32m    724\u001b[0m handle \u001b[39m=\u001b[39m ioargs\u001b[39m.\u001b[39mfilepath_or_buffer\n\u001b[0;32m    725\u001b[0m handles: \u001b[39mlist\u001b[39m[BaseBuffer]\n",
      "File \u001b[1;32mc:\\Users\\tfauvel\\.conda\\envs\\kedro-environment\\lib\\site-packages\\pandas\\io\\common.py:368\u001b[0m, in \u001b[0;36m_get_filepath_or_buffer\u001b[1;34m(filepath_or_buffer, encoding, compression, mode, storage_options)\u001b[0m\n\u001b[0;32m    366\u001b[0m \u001b[39m# assuming storage_options is to be interpreted as headers\u001b[39;00m\n\u001b[0;32m    367\u001b[0m req_info \u001b[39m=\u001b[39m urllib\u001b[39m.\u001b[39mrequest\u001b[39m.\u001b[39mRequest(filepath_or_buffer, headers\u001b[39m=\u001b[39mstorage_options)\n\u001b[1;32m--> 368\u001b[0m \u001b[39mwith\u001b[39;00m urlopen(req_info) \u001b[39mas\u001b[39;00m req:\n\u001b[0;32m    369\u001b[0m     content_encoding \u001b[39m=\u001b[39m req\u001b[39m.\u001b[39mheaders\u001b[39m.\u001b[39mget(\u001b[39m\"\u001b[39m\u001b[39mContent-Encoding\u001b[39m\u001b[39m\"\u001b[39m, \u001b[39mNone\u001b[39;00m)\n\u001b[0;32m    370\u001b[0m     \u001b[39mif\u001b[39;00m content_encoding \u001b[39m==\u001b[39m \u001b[39m\"\u001b[39m\u001b[39mgzip\u001b[39m\u001b[39m\"\u001b[39m:\n\u001b[0;32m    371\u001b[0m         \u001b[39m# Override compression based on Content-Encoding header\u001b[39;00m\n",
      "File \u001b[1;32mc:\\Users\\tfauvel\\.conda\\envs\\kedro-environment\\lib\\site-packages\\pandas\\io\\common.py:270\u001b[0m, in \u001b[0;36murlopen\u001b[1;34m(*args, **kwargs)\u001b[0m\n\u001b[0;32m    264\u001b[0m \u001b[39m\u001b[39m\u001b[39m\"\"\"\u001b[39;00m\n\u001b[0;32m    265\u001b[0m \u001b[39mLazy-import wrapper for stdlib urlopen, as that imports a big chunk of\u001b[39;00m\n\u001b[0;32m    266\u001b[0m \u001b[39mthe stdlib.\u001b[39;00m\n\u001b[0;32m    267\u001b[0m \u001b[39m\"\"\"\u001b[39;00m\n\u001b[0;32m    268\u001b[0m \u001b[39mimport\u001b[39;00m \u001b[39murllib\u001b[39;00m\u001b[39m.\u001b[39;00m\u001b[39mrequest\u001b[39;00m\n\u001b[1;32m--> 270\u001b[0m \u001b[39mreturn\u001b[39;00m urllib\u001b[39m.\u001b[39mrequest\u001b[39m.\u001b[39murlopen(\u001b[39m*\u001b[39margs, \u001b[39m*\u001b[39m\u001b[39m*\u001b[39mkwargs)\n",
      "File \u001b[1;32mc:\\Users\\tfauvel\\.conda\\envs\\kedro-environment\\lib\\urllib\\request.py:216\u001b[0m, in \u001b[0;36murlopen\u001b[1;34m(url, data, timeout, cafile, capath, cadefault, context)\u001b[0m\n\u001b[0;32m    214\u001b[0m \u001b[39melse\u001b[39;00m:\n\u001b[0;32m    215\u001b[0m     opener \u001b[39m=\u001b[39m _opener\n\u001b[1;32m--> 216\u001b[0m \u001b[39mreturn\u001b[39;00m opener\u001b[39m.\u001b[39;49mopen(url, data, timeout)\n",
      "File \u001b[1;32mc:\\Users\\tfauvel\\.conda\\envs\\kedro-environment\\lib\\urllib\\request.py:519\u001b[0m, in \u001b[0;36mOpenerDirector.open\u001b[1;34m(self, fullurl, data, timeout)\u001b[0m\n\u001b[0;32m    516\u001b[0m     req \u001b[39m=\u001b[39m meth(req)\n\u001b[0;32m    518\u001b[0m sys\u001b[39m.\u001b[39maudit(\u001b[39m'\u001b[39m\u001b[39murllib.Request\u001b[39m\u001b[39m'\u001b[39m, req\u001b[39m.\u001b[39mfull_url, req\u001b[39m.\u001b[39mdata, req\u001b[39m.\u001b[39mheaders, req\u001b[39m.\u001b[39mget_method())\n\u001b[1;32m--> 519\u001b[0m response \u001b[39m=\u001b[39m \u001b[39mself\u001b[39;49m\u001b[39m.\u001b[39;49m_open(req, data)\n\u001b[0;32m    521\u001b[0m \u001b[39m# post-process response\u001b[39;00m\n\u001b[0;32m    522\u001b[0m meth_name \u001b[39m=\u001b[39m protocol\u001b[39m+\u001b[39m\u001b[39m\"\u001b[39m\u001b[39m_response\u001b[39m\u001b[39m\"\u001b[39m\n",
      "File \u001b[1;32mc:\\Users\\tfauvel\\.conda\\envs\\kedro-environment\\lib\\urllib\\request.py:541\u001b[0m, in \u001b[0;36mOpenerDirector._open\u001b[1;34m(self, req, data)\u001b[0m\n\u001b[0;32m    538\u001b[0m \u001b[39mif\u001b[39;00m result:\n\u001b[0;32m    539\u001b[0m     \u001b[39mreturn\u001b[39;00m result\n\u001b[1;32m--> 541\u001b[0m \u001b[39mreturn\u001b[39;00m \u001b[39mself\u001b[39;49m\u001b[39m.\u001b[39;49m_call_chain(\u001b[39mself\u001b[39;49m\u001b[39m.\u001b[39;49mhandle_open, \u001b[39m'\u001b[39;49m\u001b[39munknown\u001b[39;49m\u001b[39m'\u001b[39;49m,\n\u001b[0;32m    542\u001b[0m                         \u001b[39m'\u001b[39;49m\u001b[39munknown_open\u001b[39;49m\u001b[39m'\u001b[39;49m, req)\n",
      "File \u001b[1;32mc:\\Users\\tfauvel\\.conda\\envs\\kedro-environment\\lib\\urllib\\request.py:496\u001b[0m, in \u001b[0;36mOpenerDirector._call_chain\u001b[1;34m(self, chain, kind, meth_name, *args)\u001b[0m\n\u001b[0;32m    494\u001b[0m \u001b[39mfor\u001b[39;00m handler \u001b[39min\u001b[39;00m handlers:\n\u001b[0;32m    495\u001b[0m     func \u001b[39m=\u001b[39m \u001b[39mgetattr\u001b[39m(handler, meth_name)\n\u001b[1;32m--> 496\u001b[0m     result \u001b[39m=\u001b[39m func(\u001b[39m*\u001b[39;49margs)\n\u001b[0;32m    497\u001b[0m     \u001b[39mif\u001b[39;00m result \u001b[39mis\u001b[39;00m \u001b[39mnot\u001b[39;00m \u001b[39mNone\u001b[39;00m:\n\u001b[0;32m    498\u001b[0m         \u001b[39mreturn\u001b[39;00m result\n",
      "File \u001b[1;32mc:\\Users\\tfauvel\\.conda\\envs\\kedro-environment\\lib\\urllib\\request.py:1419\u001b[0m, in \u001b[0;36mUnknownHandler.unknown_open\u001b[1;34m(self, req)\u001b[0m\n\u001b[0;32m   1417\u001b[0m \u001b[39mdef\u001b[39;00m \u001b[39munknown_open\u001b[39m(\u001b[39mself\u001b[39m, req):\n\u001b[0;32m   1418\u001b[0m     \u001b[39mtype\u001b[39m \u001b[39m=\u001b[39m req\u001b[39m.\u001b[39mtype\n\u001b[1;32m-> 1419\u001b[0m     \u001b[39mraise\u001b[39;00m URLError(\u001b[39m'\u001b[39m\u001b[39munknown url type: \u001b[39m\u001b[39m%s\u001b[39;00m\u001b[39m'\u001b[39m \u001b[39m%\u001b[39m \u001b[39mtype\u001b[39m)\n",
      "\u001b[1;31mURLError\u001b[0m: <urlopen error unknown url type: sftp>"
     ]
    }
   ],
   "source": [
    "pd.read_csv('sftp://193.218.11.199/upload/Test_Data/hcl_data/COVID-19-I_cleaned.csv')"
   ]
  },
  {
   "cell_type": "code",
   "execution_count": 19,
   "metadata": {},
   "outputs": [],
   "source": [
    "import pandas as pd\n",
    "import paramiko\n",
    "\n",
    "host = '193.218.11.199'\n",
    "port = 2222  # Default SFTP port\n",
    "username = 'Aiolos2'\n",
    "password = 'wSAygOZ6aozimXBDL6WBy7P'  # You can also use a key-based authentication\n",
    "\n",
    "transport = paramiko.Transport((host, port))\n",
    "transport.connect(username=username, password=password)\n",
    "sftp = paramiko.SFTPClient.from_transport(transport)"
   ]
  },
  {
   "cell_type": "code",
   "execution_count": null,
   "metadata": {},
   "outputs": [],
   "source": [
    "from kedro.io.core import PROTOCOL_DELIMITER, Version\n",
    "from kedro_datasets.pandas import CSVDataSet\n",
    "from typing import Any, Dict\n",
    "import paramiko\n",
    "\n",
    "class SFTPDataset(CSVDataSet):\n",
    "    def __init__(\n",
    "        self,\n",
    "        filepath: str,\n",
    "        load_args: Dict[str, Any] = None,\n",
    "        save_args: Dict[str, Any] = None,\n",
    "        version: Version = None,\n",
    "        credentials: Dict[str, Any] = None,\n",
    "        fs_args: Dict[str, Any] = None,\n",
    "        metadata: Dict[str, Any] = None,\n",
    "    ) -> None:\n",
    "        super().__init__(filepath, load_args, save_args, version, credentials, fs_args, metadata)\n",
    "\n",
    "    def _load(self) -> pd.DataFrame:\n",
    "        \n",
    "        load_path = str(self._get_load_path())\n",
    "        if self._protocol == \"sftp\":\n",
    "            transport = paramiko.Transport((self._credentials.host, self._credentials.port))\n",
    "            transport.connect(username=self._credentials.username, password=self._credentials.password)\n",
    "            sftp = paramiko.SFTPClient.from_transport(transport)\n",
    "\n",
    "            with sftp.open(load_path) as f:\n",
    "                data = pd.read_csv(f, storage_options=self._storage_options, **self._load_args)\n",
    "            sftp.close()\n",
    "            return data\n",
    "        else :\n",
    "            raise ValueError(\"Protocol should be sftp\")"
   ]
  },
  {
   "cell_type": "code",
   "execution_count": 3,
   "metadata": {},
   "outputs": [
    {
     "data": {
      "text/plain": [
       "'c:\\\\Users\\\\tfauvel\\\\Documents\\\\hcl_data'"
      ]
     },
     "execution_count": 3,
     "metadata": {},
     "output_type": "execute_result"
    }
   ],
   "source": [
    "import os\n",
    "os.getcwd()"
   ]
  },
  {
   "cell_type": "code",
   "execution_count": 4,
   "metadata": {},
   "outputs": [
    {
     "ename": "ImportError",
     "evalue": "cannot import name 'SFTPDataSet' from 'src.hcl_model_project.extras.datasets.sftp_dataset' (c:\\Users\\tfauvel\\Documents\\hcl_data\\src\\hcl_model_project\\extras\\datasets\\sftp_dataset.py)",
     "output_type": "error",
     "traceback": [
      "\u001b[1;31m---------------------------------------------------------------------------\u001b[0m",
      "\u001b[1;31mImportError\u001b[0m                               Traceback (most recent call last)",
      "Cell \u001b[1;32mIn[4], line 1\u001b[0m\n\u001b[1;32m----> 1\u001b[0m \u001b[39mfrom\u001b[39;00m \u001b[39msrc\u001b[39;00m\u001b[39m.\u001b[39;00m\u001b[39mhcl_model_project\u001b[39;00m\u001b[39m.\u001b[39;00m\u001b[39mextras\u001b[39;00m\u001b[39m.\u001b[39;00m\u001b[39mdatasets\u001b[39;00m\u001b[39m.\u001b[39;00m\u001b[39msftp_dataset\u001b[39;00m \u001b[39mimport\u001b[39;00m SFTPDataSet\n",
      "\u001b[1;31mImportError\u001b[0m: cannot import name 'SFTPDataSet' from 'src.hcl_model_project.extras.datasets.sftp_dataset' (c:\\Users\\tfauvel\\Documents\\hcl_data\\src\\hcl_model_project\\extras\\datasets\\sftp_dataset.py)"
     ]
    }
   ],
   "source": [
    "from src.hcl_model_project.extras.datasets.sftp_dataset import SFTPDataSet"
   ]
  },
  {
   "cell_type": "code",
   "execution_count": 22,
   "metadata": {},
   "outputs": [],
   "source": [
    "\n",
    "remote_path = '/upload/Test_Data/hcl_data/COVID-19-I_cleaned.csv'\n",
    "with sftp.open(remote_path) as f:\n",
    "    data = pd.read_csv(f)\n",
    "\n",
    "# Don't forget to close the SFTP connection\n",
    "sftp.close()\n"
   ]
  },
  {
   "cell_type": "code",
   "execution_count": 5,
   "metadata": {},
   "outputs": [],
   "source": [
    "import fsspec\n",
    "import pandas as pd\n",
    "host = '193.218.11.199'\n",
    "port = 2222 \n",
    "username = 'Aiolos2'\n",
    "password = 'wSAygOZ6aozimXBDL6WBy7P'\n",
    "remote_path = '/upload/Test_Data/hcl_data/COVID-19-I_cleaned.csv'\n",
    "sftp_url = 'sftp://193.218.11.199'\n",
    "authentication_kwargs = dict()\n",
    "authentication_kwargs[\"password\"] = password\n",
    "\n",
    "sftp = fsspec.filesystem(\"sftp\", host=host, port=port, username=username, **authentication_kwargs)\n",
    "\n",
    "\n",
    "with sftp.open(sftp_url + remote_path) as f:\n",
    "    data = pd.read_csv(f)\n",
    "data"
   ]
  },
  {
   "cell_type": "code",
   "execution_count": 7,
   "metadata": {},
   "outputs": [
    {
     "data": {
      "text/html": [
       "<div>\n",
       "<style scoped>\n",
       "    .dataframe tbody tr th:only-of-type {\n",
       "        vertical-align: middle;\n",
       "    }\n",
       "\n",
       "    .dataframe tbody tr th {\n",
       "        vertical-align: top;\n",
       "    }\n",
       "\n",
       "    .dataframe thead th {\n",
       "        text-align: right;\n",
       "    }\n",
       "</style>\n",
       "<table border=\"1\" class=\"dataframe\">\n",
       "  <thead>\n",
       "    <tr style=\"text-align: right;\">\n",
       "      <th></th>\n",
       "      <th>DATE_EXTRACT;CATEG_DIAG;ANNEE_ENTREE_RSS;NUM_SEMAINE;LIB_SEM;CLAS_AGE;CLAS_DUREERSS;NRSS;NIPP</th>\n",
       "    </tr>\n",
       "  </thead>\n",
       "  <tbody>\n",
       "    <tr>\n",
       "      <th>0</th>\n",
       "      <td>20/07/23;COVID-19;2 023;1;2023 - Semaine N°1 -...</td>\n",
       "    </tr>\n",
       "    <tr>\n",
       "      <th>1</th>\n",
       "      <td>20/07/23;COVID-19;2 023;1;2023 - Semaine N°1 -...</td>\n",
       "    </tr>\n",
       "    <tr>\n",
       "      <th>2</th>\n",
       "      <td>20/07/23;COVID-19;2 023;1;2023 - Semaine N°1 -...</td>\n",
       "    </tr>\n",
       "    <tr>\n",
       "      <th>3</th>\n",
       "      <td>20/07/23;COVID-19;2 023;1;2023 - Semaine N°1 -...</td>\n",
       "    </tr>\n",
       "    <tr>\n",
       "      <th>4</th>\n",
       "      <td>20/07/23;COVID-19;2 023;1;2023 - Semaine N°1 -...</td>\n",
       "    </tr>\n",
       "    <tr>\n",
       "      <th>...</th>\n",
       "      <td>...</td>\n",
       "    </tr>\n",
       "    <tr>\n",
       "      <th>140</th>\n",
       "      <td>20/07/23;COVID-19;2 023;24;2023 - Semaine N°24...</td>\n",
       "    </tr>\n",
       "    <tr>\n",
       "      <th>141</th>\n",
       "      <td>20/07/23;COVID-19;2 023;24;2023 - Semaine N°24...</td>\n",
       "    </tr>\n",
       "    <tr>\n",
       "      <th>142</th>\n",
       "      <td>20/07/23;COVID-19;2 023;24;2023 - Semaine N°24...</td>\n",
       "    </tr>\n",
       "    <tr>\n",
       "      <th>143</th>\n",
       "      <td>20/07/23;COVID-19;2 023;25;2023 - Semaine N°25...</td>\n",
       "    </tr>\n",
       "    <tr>\n",
       "      <th>144</th>\n",
       "      <td>20/07/23;COVID-19;2 023;25;2023 - Semaine N°25...</td>\n",
       "    </tr>\n",
       "  </tbody>\n",
       "</table>\n",
       "<p>145 rows × 1 columns</p>\n",
       "</div>"
      ],
      "text/plain": [
       "    DATE_EXTRACT;CATEG_DIAG;ANNEE_ENTREE_RSS;NUM_SEMAINE;LIB_SEM;CLAS_AGE;CLAS_DUREERSS;NRSS;NIPP\n",
       "0    20/07/23;COVID-19;2 023;1;2023 - Semaine N°1 -...                                           \n",
       "1    20/07/23;COVID-19;2 023;1;2023 - Semaine N°1 -...                                           \n",
       "2    20/07/23;COVID-19;2 023;1;2023 - Semaine N°1 -...                                           \n",
       "3    20/07/23;COVID-19;2 023;1;2023 - Semaine N°1 -...                                           \n",
       "4    20/07/23;COVID-19;2 023;1;2023 - Semaine N°1 -...                                           \n",
       "..                                                 ...                                           \n",
       "140  20/07/23;COVID-19;2 023;24;2023 - Semaine N°24...                                           \n",
       "141  20/07/23;COVID-19;2 023;24;2023 - Semaine N°24...                                           \n",
       "142  20/07/23;COVID-19;2 023;24;2023 - Semaine N°24...                                           \n",
       "143  20/07/23;COVID-19;2 023;25;2023 - Semaine N°25...                                           \n",
       "144  20/07/23;COVID-19;2 023;25;2023 - Semaine N°25...                                           \n",
       "\n",
       "[145 rows x 1 columns]"
      ]
     },
     "execution_count": 7,
     "metadata": {},
     "output_type": "execute_result"
    }
   ],
   "source": []
  },
  {
   "cell_type": "code",
   "execution_count": 20,
   "metadata": {},
   "outputs": [],
   "source": [
    "f = sftp.open(remote_path)"
   ]
  },
  {
   "cell_type": "code",
   "execution_count": 21,
   "metadata": {},
   "outputs": [
    {
     "data": {
      "text/plain": [
       "<paramiko.sftp_file.SFTPFile at 0x260ff99a8f0>"
      ]
     },
     "execution_count": 21,
     "metadata": {},
     "output_type": "execute_result"
    }
   ],
   "source": [
    "f"
   ]
  }
 ],
 "metadata": {
  "kernelspec": {
   "display_name": "kedro-environment",
   "language": "python",
   "name": "python3"
  },
  "language_info": {
   "codemirror_mode": {
    "name": "ipython",
    "version": 3
   },
   "file_extension": ".py",
   "mimetype": "text/x-python",
   "name": "python",
   "nbconvert_exporter": "python",
   "pygments_lexer": "ipython3",
   "version": "3.10.12"
  },
  "orig_nbformat": 4,
  "vscode": {
   "interpreter": {
    "hash": "cd7403d8d2dac92983263b6ed500efe2130eb05ded927317229554804ba0ea75"
   }
  }
 },
 "nbformat": 4,
 "nbformat_minor": 2
}
